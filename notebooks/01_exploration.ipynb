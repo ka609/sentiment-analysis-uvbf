{
 "cells": [
  {
   "cell_type": "code",
   "execution_count": null,
   "id": "44a622cd",
   "metadata": {
    "vscode": {
     "languageId": "plaintext"
    }
   },
   "outputs": [],
   "source": [
    "plt.figure(figsize=(8,4))\n",
    "sns.histplot(df[\"text_length\"], bins=30, kde=True)\n",
    "plt.title(\"Distribution de la longueur des tweets\")\n",
    "plt.xlabel(\"Nombre de caractères\")\n",
    "plt.ylabel(\"Fréquence\")\n",
    "plt.show()\n"
   ]
  },
  {
   "cell_type": "code",
   "execution_count": null,
   "id": "77762625",
   "metadata": {
    "vscode": {
     "languageId": "plaintext"
    }
   },
   "outputs": [],
   "source": [
    "df[\"text_length\"] = df[\"text\"].apply(len)\n",
    "\n",
    "print(\"📊 Nombre total de tweets:\", len(df))\n",
    "print(\"📊 Tweets uniques:\", df[\"text\"].nunique())\n",
    "print(\"📊 Longueur moyenne:\", df[\"text_length\"].mean())\n",
    "print(\"📊 Longueur max:\", df[\"text_length\"].max())\n"
   ]
  },
  {
   "cell_type": "code",
   "execution_count": null,
   "id": "5deeca6a",
   "metadata": {
    "vscode": {
     "languageId": "plaintext"
    }
   },
   "outputs": [],
   "source": [
    "text = \" \".join(df[\"text\"].dropna().tolist())\n",
    "\n",
    "wc = WordCloud(\n",
    "    width=800, height=400,\n",
    "    background_color=\"white\",\n",
    "    colormap=\"viridis\"\n",
    ").generate(text)\n",
    "\n",
    "plt.figure(figsize=(10,5))\n",
    "plt.imshow(wc, interpolation=\"bilinear\")\n",
    "plt.axis(\"off\")\n",
    "plt.title(\"WordCloud des tweets\")\n",
    "plt.show()\n"
   ]
  },
  {
   "cell_type": "code",
   "execution_count": null,
   "id": "7b0613d3",
   "metadata": {
    "vscode": {
     "languageId": "plaintext"
    }
   },
   "outputs": [],
   "source": [
    "if PROCESSED_PATH.exists():\n",
    "    with open(PROCESSED_PATH, \"r\", encoding=\"utf-8\") as f:\n",
    "        tweets = json.load(f)\n",
    "    print(\"✅ Données nettoyées chargées\")\n",
    "else:\n",
    "    with open(RAW_PATH, \"r\", encoding=\"utf-8\") as f:\n",
    "        tweets = json.load(f)\n",
    "    print(\"⚠️ Données brutes chargées\")\n",
    "\n",
    "df = pd.DataFrame(tweets)\n",
    "df.head()\n"
   ]
  },
  {
   "cell_type": "code",
   "execution_count": null,
   "id": "ef4e8438",
   "metadata": {
    "vscode": {
     "languageId": "plaintext"
    }
   },
   "outputs": [],
   "source": [
    "import pandas as pd\n",
    "import matplotlib.pyplot as plt\n",
    "import seaborn as sns\n",
    "from wordcloud import WordCloud\n",
    "import json\n",
    "from pathlib import Path\n",
    "\n",
    "RAW_PATH = Path(\"../data/raw/tweets.json\")\n",
    "PROCESSED_PATH = Path(\"../data/processed/tweets_cleaned.json\")\n"
   ]
  }
 ],
 "metadata": {
  "language_info": {
   "name": "python"
  }
 },
 "nbformat": 4,
 "nbformat_minor": 5
}
